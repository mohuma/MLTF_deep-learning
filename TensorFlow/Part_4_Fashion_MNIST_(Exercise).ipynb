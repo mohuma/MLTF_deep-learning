{
 "cells": [
  {
   "cell_type": "markdown",
   "metadata": {
    "colab_type": "text",
    "id": "Lg2hLK7hlWdb"
   },
   "source": [
    "# Classifying Fashion-MNIST\n",
    "\n",
    "Now it's your turn to build and train a neural network. You'll be using the [Fashion-MNIST dataset](https://github.com/zalandoresearch/fashion-mnist), a drop-in replacement for the MNIST dataset. MNIST is actually quite trivial with neural networks where you can easily achieve better than 97% accuracy. Fashion-MNIST is a set of 28x28 greyscale images of clothes. It's more complex than MNIST, so it's a better representation of the actual performance of your network, and a better representation of datasets you'll use in the real world.\n",
    "\n",
    "<img src='assets/fashion-mnist-sprite.png' width=500px>\n",
    "\n",
    "In this notebook, you'll build your own neural network. For the most part, you could just copy and paste the code from Part 3, but you wouldn't be learning. It's important for you to write the code yourself and get it to work. Feel free to consult the previous notebooks though as you work through this.\n",
    "\n",
    "First off, let's import our resources and download the Fashion-MNIST dataset from `tensorflow_datasets`. "
   ]
  },
  {
   "cell_type": "markdown",
   "metadata": {
    "colab_type": "text",
    "id": "EMflYTIOtOPf"
   },
   "source": [
    "## Import Resources"
   ]
  },
  {
   "cell_type": "code",
   "execution_count": 24,
   "metadata": {},
   "outputs": [],
   "source": [
    "import warnings\n",
    "warnings.filterwarnings('ignore')"
   ]
  },
  {
   "cell_type": "code",
   "execution_count": 25,
   "metadata": {
    "colab": {},
    "colab_type": "code",
    "id": "U0n2QWj1p2fG"
   },
   "outputs": [],
   "source": [
    "%matplotlib inline\n",
    "%config InlineBackend.figure_format = 'retina'\n",
    "\n",
    "import numpy as np\n",
    "import matplotlib.pyplot as plt\n",
    "\n",
    "import tensorflow as tf\n",
    "import tensorflow_datasets as tfds\n",
    "tfds.disable_progress_bar()"
   ]
  },
  {
   "cell_type": "code",
   "execution_count": 26,
   "metadata": {},
   "outputs": [],
   "source": [
    "import logging\n",
    "logger = tf.get_logger()\n",
    "logger.setLevel(logging.ERROR)"
   ]
  },
  {
   "cell_type": "code",
   "execution_count": 27,
   "metadata": {
    "colab": {
     "base_uri": "https://localhost:8080/",
     "height": 85
    },
    "colab_type": "code",
    "id": "FwP1_Qw-cCsY",
    "outputId": "5cc63000-690c-4063-d0c4-2f242819ccac"
   },
   "outputs": [
    {
     "name": "stdout",
     "output_type": "stream",
     "text": [
      "Using:\n",
      "\t• TensorFlow version: 2.7.0\n",
      "\t• tf.keras version: 2.7.0\n",
      "\t• GPU device not found. Running on CPU\n"
     ]
    }
   ],
   "source": [
    "print('Using:')\n",
    "print('\\t\\u2022 TensorFlow version:', tf.__version__)\n",
    "print('\\t\\u2022 tf.keras version:', tf.keras.__version__)\n",
    "print('\\t\\u2022 Running on GPU' if tf.test.is_gpu_available() else '\\t\\u2022 GPU device not found. Running on CPU')"
   ]
  },
  {
   "cell_type": "markdown",
   "metadata": {
    "colab_type": "text",
    "id": "Vr2SOjl8txrZ"
   },
   "source": [
    "## Load the Dataset\n",
    "\n",
    "We are now going to load the Fashion-MNIST dataset using `tensorflow_datasets` as we've done before. In this case, however, we are going to omit the `split` argument.  This means that `tensorflow_datasets` will use the default value for `split` which is `split=None`. When `split=None`, `tensorflow_datasets` returns a **dictionary** with all the splits available for the dataset you are loading. However, if the split is given explicitly, such as `split='train'`, then `tensorflow_datasets` returns a `tf.data.Dataset` object.\n",
    "\n",
    "In our case, we are going to load the `fashion_mnist` dataset. If we look at the [documentation](https://www.tensorflow.org/datasets/catalog/fashion_mnist#statistics) we will see that this particular dataset has 2 splits, namely a `train` and a `test` slipt. We also see that the `train` split has 60,000 examples, and that the `test` split has 10,000 examples. \n",
    "\n",
    "Now, let's load the `fashion_mnist` dataset and inspect the returned values."
   ]
  },
  {
   "cell_type": "code",
   "execution_count": 28,
   "metadata": {
    "colab": {
     "base_uri": "https://localhost:8080/",
     "height": 54
    },
    "colab_type": "code",
    "id": "1kn4Op7dXCnk",
    "outputId": "cd83ee11-b25e-4df2-dbf7-2026fd2049da"
   },
   "outputs": [],
   "source": [
    "dataset, dataset_info = tfds.load('fashion_mnist', as_supervised = True, with_info = True)"
   ]
  },
  {
   "cell_type": "code",
   "execution_count": 29,
   "metadata": {
    "colab": {
     "base_uri": "https://localhost:8080/",
     "height": 68
    },
    "colab_type": "code",
    "id": "2_vT6HUUXg05",
    "outputId": "fcdf4d7e-d14b-491b-b6c1-235823d67875"
   },
   "outputs": [
    {
     "name": "stdout",
     "output_type": "stream",
     "text": [
      "dataset has type: <class 'dict'>\n",
      "\n",
      "The keys of dataset are: ['train', 'test']\n"
     ]
    }
   ],
   "source": [
    "# Check that dataset is a dictionary\n",
    "print('dataset has type:', type(dataset))\n",
    "\n",
    "# Print the keys of the dataset dictionary\n",
    "print('\\nThe keys of dataset are:', list(dataset.keys()))"
   ]
  },
  {
   "cell_type": "markdown",
   "metadata": {
    "colab_type": "text",
    "id": "6S4f2J9jbpak"
   },
   "source": [
    "In the cell below, we are going to save the training data and the test data into different variables."
   ]
  },
  {
   "cell_type": "code",
   "execution_count": 30,
   "metadata": {
    "colab": {},
    "colab_type": "code",
    "id": "kxo7PHJys18t"
   },
   "outputs": [],
   "source": [
    "training_set, test_set = dataset['train'], dataset['test']"
   ]
  },
  {
   "cell_type": "markdown",
   "metadata": {
    "colab_type": "text",
    "id": "zzZciG_KcHbI"
   },
   "source": [
    "Now, let's take a look at the `dataset_info`"
   ]
  },
  {
   "cell_type": "code",
   "execution_count": 31,
   "metadata": {
    "colab": {
     "base_uri": "https://localhost:8080/",
     "height": 598
    },
    "colab_type": "code",
    "id": "7jFE3vbebU-A",
    "outputId": "faaf389e-4d0b-4d51-f565-34aba4ae5cfd"
   },
   "outputs": [
    {
     "data": {
      "text/plain": [
       "tfds.core.DatasetInfo(\n",
       "    name='fashion_mnist',\n",
       "    full_name='fashion_mnist/3.0.1',\n",
       "    description=\"\"\"\n",
       "    Fashion-MNIST is a dataset of Zalando's article images consisting of a training set of 60,000 examples and a test set of 10,000 examples. Each example is a 28x28 grayscale image, associated with a label from 10 classes.\n",
       "    \"\"\",\n",
       "    homepage='https://github.com/zalandoresearch/fashion-mnist',\n",
       "    data_path='C:\\\\Users\\\\sankar.mohambourame\\\\tensorflow_datasets\\\\fashion_mnist\\\\3.0.1',\n",
       "    download_size=29.45 MiB,\n",
       "    dataset_size=36.42 MiB,\n",
       "    features=FeaturesDict({\n",
       "        'image': Image(shape=(28, 28, 1), dtype=tf.uint8),\n",
       "        'label': ClassLabel(shape=(), dtype=tf.int64, num_classes=10),\n",
       "    }),\n",
       "    supervised_keys=('image', 'label'),\n",
       "    disable_shuffling=False,\n",
       "    splits={\n",
       "        'test': <SplitInfo num_examples=10000, num_shards=1>,\n",
       "        'train': <SplitInfo num_examples=60000, num_shards=1>,\n",
       "    },\n",
       "    citation=\"\"\"@article{DBLP:journals/corr/abs-1708-07747,\n",
       "      author    = {Han Xiao and\n",
       "                   Kashif Rasul and\n",
       "                   Roland Vollgraf},\n",
       "      title     = {Fashion-MNIST: a Novel Image Dataset for Benchmarking Machine Learning\n",
       "                   Algorithms},\n",
       "      journal   = {CoRR},\n",
       "      volume    = {abs/1708.07747},\n",
       "      year      = {2017},\n",
       "      url       = {http://arxiv.org/abs/1708.07747},\n",
       "      archivePrefix = {arXiv},\n",
       "      eprint    = {1708.07747},\n",
       "      timestamp = {Mon, 13 Aug 2018 16:47:27 +0200},\n",
       "      biburl    = {https://dblp.org/rec/bib/journals/corr/abs-1708-07747},\n",
       "      bibsource = {dblp computer science bibliography, https://dblp.org}\n",
       "    }\"\"\",\n",
       ")"
      ]
     },
     "execution_count": 31,
     "metadata": {},
     "output_type": "execute_result"
    }
   ],
   "source": [
    "# Display the dataset_info\n",
    "dataset_info"
   ]
  },
  {
   "cell_type": "markdown",
   "metadata": {
    "colab_type": "text",
    "id": "0_If36cti685"
   },
   "source": [
    "We can access the information in `dataset_info` very easily. As we can see, the `features` and `splits` info are contained in dictionaries. We can access the information we want by accessing the particular key and value in these dictionaries. We start by looking at the values of particular keys in these dictionaries:"
   ]
  },
  {
   "cell_type": "code",
   "execution_count": 32,
   "metadata": {
    "colab": {
     "base_uri": "https://localhost:8080/",
     "height": 34
    },
    "colab_type": "code",
    "id": "6KtD7j5HgTkn",
    "outputId": "926d32e3-644b-45ff-c86e-119663fcabc6"
   },
   "outputs": [
    {
     "data": {
      "text/plain": [
       "Image(shape=(28, 28, 1), dtype=tf.uint8)"
      ]
     },
     "execution_count": 32,
     "metadata": {},
     "output_type": "execute_result"
    }
   ],
   "source": [
    "dataset_info.features['image']"
   ]
  },
  {
   "cell_type": "code",
   "execution_count": 33,
   "metadata": {
    "colab": {
     "base_uri": "https://localhost:8080/",
     "height": 34
    },
    "colab_type": "code",
    "id": "l_QXhcTOiQ1a",
    "outputId": "53da5e37-9e6e-45ee-c395-81166c3e6e5c"
   },
   "outputs": [
    {
     "data": {
      "text/plain": [
       "ClassLabel(shape=(), dtype=tf.int64, num_classes=10)"
      ]
     },
     "execution_count": 33,
     "metadata": {},
     "output_type": "execute_result"
    }
   ],
   "source": [
    "dataset_info.features['label']"
   ]
  },
  {
   "cell_type": "code",
   "execution_count": 34,
   "metadata": {
    "colab": {
     "base_uri": "https://localhost:8080/",
     "height": 34
    },
    "colab_type": "code",
    "id": "gGn6yzTxgKwj",
    "outputId": "442c79f6-a5c6-4d4c-8b84-7f2d93778d81"
   },
   "outputs": [
    {
     "data": {
      "text/plain": [
       "<SplitInfo num_examples=60000, num_shards=1>"
      ]
     },
     "execution_count": 34,
     "metadata": {},
     "output_type": "execute_result"
    }
   ],
   "source": [
    "dataset_info.splits['train']"
   ]
  },
  {
   "cell_type": "markdown",
   "metadata": {
    "colab_type": "text",
    "id": "MFwhpPOijumG"
   },
   "source": [
    "We can now use dot notation to access the information we want. Below are some examples. "
   ]
  },
  {
   "cell_type": "code",
   "execution_count": 35,
   "metadata": {
    "colab": {
     "base_uri": "https://localhost:8080/",
     "height": 102
    },
    "colab_type": "code",
    "id": "m9_OYPHsbbcl",
    "outputId": "9b7e79ce-1932-443c-85b9-1dca8b55eade"
   },
   "outputs": [
    {
     "name": "stdout",
     "output_type": "stream",
     "text": [
      "There are 10 classes in our dataset\n",
      "The images in our dataset have shape: (28, 28, 1)\n",
      "\n",
      "There are 10,000 images in the test set\n",
      "There are 60,000 images in the training set\n"
     ]
    }
   ],
   "source": [
    "shape_images = dataset_info.features['image'].shape\n",
    "num_classes = dataset_info.features['label'].num_classes\n",
    "\n",
    "num_training_examples  = dataset_info.splits['train'].num_examples\n",
    "num_test_examples = dataset_info.splits['test'].num_examples\n",
    "\n",
    "print('There are {:,} classes in our dataset'.format(num_classes))\n",
    "print('The images in our dataset have shape:', shape_images)\n",
    "\n",
    "print('\\nThere are {:,} images in the test set'.format(num_test_examples))\n",
    "print('There are {:,} images in the training set'.format(num_training_examples))"
   ]
  },
  {
   "cell_type": "markdown",
   "metadata": {
    "colab_type": "text",
    "id": "nfMgIb3PvWXo"
   },
   "source": [
    "## Explore the Dataset\n",
    "\n",
    "The images in this dataset are 28 $\\times$ 28 arrays, with pixel values in the range `[0, 255]`. The *labels* are an array of integers, in the range `[0, 9]`. These correspond to the *class* of clothing the image represents:\n",
    "\n",
    "<table>\n",
    "  <tr>\n",
    "    <th>Label</th>\n",
    "    <th>Class</th> \n",
    "  </tr>\n",
    "  <tr>\n",
    "    <td>0</td>\n",
    "    <td>T-shirt/top</td> \n",
    "  </tr>\n",
    "  <tr>\n",
    "    <td>1</td>\n",
    "    <td>Trouser</td> \n",
    "  </tr>\n",
    "    <tr>\n",
    "    <td>2</td>\n",
    "    <td>Pullover</td> \n",
    "  </tr>\n",
    "    <tr>\n",
    "    <td>3</td>\n",
    "    <td>Dress</td> \n",
    "  </tr>\n",
    "    <tr>\n",
    "    <td>4</td>\n",
    "    <td>Coat</td> \n",
    "  </tr>\n",
    "    <tr>\n",
    "    <td>5</td>\n",
    "    <td>Sandal</td> \n",
    "  </tr>\n",
    "    <tr>\n",
    "    <td>6</td>\n",
    "    <td>Shirt</td> \n",
    "  </tr>\n",
    "    <tr>\n",
    "    <td>7</td>\n",
    "    <td>Sneaker</td> \n",
    "  </tr>\n",
    "    <tr>\n",
    "    <td>8</td>\n",
    "    <td>Bag</td> \n",
    "  </tr>\n",
    "    <tr>\n",
    "    <td>9</td>\n",
    "    <td>Ankle boot</td> \n",
    "  </tr>\n",
    "</table>\n",
    "\n",
    "Each image is mapped to a single label. Since the *class names* are not included with the dataset, we create them here to use later when plotting the images:"
   ]
  },
  {
   "cell_type": "code",
   "execution_count": 36,
   "metadata": {
    "colab": {},
    "colab_type": "code",
    "id": "odzN3aJjusED"
   },
   "outputs": [],
   "source": [
    "class_names = ['T-shirt/top', 'Trouser', 'Pullover', 'Dress', 'Coat', \n",
    "               'Sandal',      'Shirt',   'Sneaker',  'Bag',   'Ankle boot']"
   ]
  },
  {
   "cell_type": "code",
   "execution_count": 37,
   "metadata": {
    "colab": {
     "base_uri": "https://localhost:8080/",
     "height": 68
    },
    "colab_type": "code",
    "id": "RoY1HeJJyces",
    "outputId": "c6d817e3-4150-4f8f-8b28-298b0936e794"
   },
   "outputs": [
    {
     "name": "stdout",
     "output_type": "stream",
     "text": [
      "The images in the training set have:\n",
      "• dtype: <dtype: 'uint8'> \n",
      "• shape: (28, 28, 1)\n"
     ]
    }
   ],
   "source": [
    "for image, label in training_set.take(1):\n",
    "    print('The images in the training set have:\\n\\u2022 dtype:', image.dtype, '\\n\\u2022 shape:', image.shape)"
   ]
  },
  {
   "cell_type": "code",
   "execution_count": 38,
   "metadata": {
    "colab": {
     "base_uri": "https://localhost:8080/",
     "height": 301
    },
    "colab_type": "code",
    "id": "CInprnnJ1_gk",
    "outputId": "aa2945e1-9f33-4d2e-8191-a47dd7dbb29f"
   },
   "outputs": [
    {
     "data": {
      "image/png": "[encoded data removed]",
      "text/plain": [
       "<Figure size 432x288 with 2 Axes>"
      ]
     },
     "metadata": {
      "image/png": {
       "height": 248,
       "width": 305
      },
      "needs_background": "light"
     },
     "output_type": "display_data"
    },
    {
     "name": "stdout",
     "output_type": "stream",
     "text": [
      "The label of this image is: 2\n",
      "The class name of this image is: Pullover\n"
     ]
    }
   ],
   "source": [
    "for image, label in training_set.take(1):\n",
    "    image = image.numpy().squeeze()\n",
    "    label = label.numpy()\n",
    "\n",
    "plt.imshow(image, cmap= plt.cm.binary)\n",
    "plt.colorbar()\n",
    "plt.show()\n",
    "\n",
    "print('The label of this image is:', label)\n",
    "print('The class name of this image is:', class_names[label])"
   ]
  },
  {
   "cell_type": "markdown",
   "metadata": {
    "colab_type": "text",
    "id": "Hb-lmuTM35C9"
   },
   "source": [
    "## Create Pipeline"
   ]
  },
  {
   "cell_type": "code",
   "execution_count": 39,
   "metadata": {
    "colab": {},
    "colab_type": "code",
    "id": "3gq-_mXl3ZFG"
   },
   "outputs": [],
   "source": [
    "def normalize(image, label):\n",
    "    image = tf.cast(image, tf.float32)\n",
    "    image /= 255\n",
    "    return image, label\n",
    "\n",
    "batch_size = 64\n",
    "\n",
    "training_batches = training_set.cache().shuffle(num_training_examples//4).batch(batch_size).map(normalize).prefetch(1)\n",
    "testing_batches = test_set.cache().batch(batch_size).map(normalize).prefetch(1)"
   ]
  },
  {
   "cell_type": "markdown",
   "metadata": {
    "colab_type": "text",
    "id": "LviX4-ii8js7"
   },
   "source": [
    "## Build the Model\n",
    "\n",
    "> **Exercise:** Here you should define your own neural network. Feel free to create a model with as many layers and neurons as you like. You should keep in mind that as with MNIST, each image is 28 $\\times$ 28 which is a total of 784 pixels, and there are 10 classes. Your model should include at least one hidden layer. We suggest you use ReLU activation functions for the hidden layers and a softmax activation function for the output layer."
   ]
  },
  {
   "cell_type": "code",
   "execution_count": 40,
   "metadata": {
    "colab": {},
    "colab_type": "code",
    "id": "OYzFZ3jQ8azd"
   },
   "outputs": [],
   "source": [
    "## Solution\n",
    "\n",
    "model = tf.keras.Sequential([\n",
    "    tf.keras.layers.Flatten(input_shape = (28, 28, 1)),\n",
    "    tf.keras.layers.Dense(256, activation = 'relu'),\n",
    "    tf.keras.layers.Dense(132, activation = 'relu'),\n",
    "    tf.keras.layers.Dense(10, activation = 'sigmoid')\n",
    "])"
   ]
  },
  {
   "cell_type": "markdown",
   "metadata": {
    "colab_type": "text",
    "id": "CYhwsFzA-Aah"
   },
   "source": [
    "## Train the Model\n",
    "\n",
    "> **Exercise:** Compile the model you created above using an `adam` optimizer, a `sparse_categorical_crossentropy` loss function, and the `accuracy` metric. Then train the model for 5 epochs. You should be able to get the training loss below 0.4."
   ]
  },
  {
   "cell_type": "code",
   "execution_count": 41,
   "metadata": {
    "colab": {
     "base_uri": "https://localhost:8080/",
     "height": 187
    },
    "colab_type": "code",
    "id": "Cyy9SqTU91IS",
    "outputId": "e8823c12-e7c0-4397-8126-2cb29e8be66a"
   },
   "outputs": [
    {
     "name": "stdout",
     "output_type": "stream",
     "text": [
      "Epoch 1/5\n",
      "938/938 [==============================] - ETA: 8:50 - loss: 2.5608 - accuracy: 0.03 - ETA: 3s - loss: 1.6444 - accuracy: 0.4507 - ETA: 3s - loss: 1.2327 - accuracy: 0.58 - ETA: 3s - loss: 1.0472 - accuracy: 0.64 - ETA: 3s - loss: 0.9452 - accuracy: 0.67 - ETA: 3s - loss: 0.8915 - accuracy: 0.69 - ETA: 3s - loss: 0.8518 - accuracy: 0.70 - ETA: 3s - loss: 0.8160 - accuracy: 0.71 - ETA: 3s - loss: 0.7868 - accuracy: 0.72 - ETA: 2s - loss: 0.7552 - accuracy: 0.73 - ETA: 2s - loss: 0.7426 - accuracy: 0.74 - ETA: 2s - loss: 0.7227 - accuracy: 0.74 - ETA: 2s - loss: 0.7068 - accuracy: 0.75 - ETA: 2s - loss: 0.6942 - accuracy: 0.75 - ETA: 2s - loss: 0.6809 - accuracy: 0.76 - ETA: 2s - loss: 0.6698 - accuracy: 0.76 - ETA: 2s - loss: 0.6625 - accuracy: 0.77 - ETA: 2s - loss: 0.6525 - accuracy: 0.77 - ETA: 2s - loss: 0.6438 - accuracy: 0.77 - ETA: 2s - loss: 0.6405 - accuracy: 0.77 - ETA: 2s - loss: 0.6355 - accuracy: 0.78 - ETA: 2s - loss: 0.6283 - accuracy: 0.78 - ETA: 2s - loss: 0.6225 - accuracy: 0.78 - ETA: 2s - loss: 0.6157 - accuracy: 0.78 - ETA: 2s - loss: 0.6088 - accuracy: 0.78 - ETA: 2s - loss: 0.6037 - accuracy: 0.78 - ETA: 2s - loss: 0.6003 - accuracy: 0.79 - ETA: 2s - loss: 0.5966 - accuracy: 0.79 - ETA: 2s - loss: 0.5924 - accuracy: 0.79 - ETA: 1s - loss: 0.5866 - accuracy: 0.79 - ETA: 1s - loss: 0.5824 - accuracy: 0.79 - ETA: 1s - loss: 0.5787 - accuracy: 0.79 - ETA: 1s - loss: 0.5762 - accuracy: 0.79 - ETA: 1s - loss: 0.5735 - accuracy: 0.79 - ETA: 1s - loss: 0.5707 - accuracy: 0.80 - ETA: 1s - loss: 0.5670 - accuracy: 0.80 - ETA: 1s - loss: 0.5624 - accuracy: 0.80 - ETA: 1s - loss: 0.5607 - accuracy: 0.80 - ETA: 1s - loss: 0.5576 - accuracy: 0.80 - ETA: 1s - loss: 0.5535 - accuracy: 0.80 - ETA: 1s - loss: 0.5510 - accuracy: 0.80 - ETA: 1s - loss: 0.5466 - accuracy: 0.80 - ETA: 1s - loss: 0.5450 - accuracy: 0.80 - ETA: 1s - loss: 0.5429 - accuracy: 0.80 - ETA: 1s - loss: 0.5399 - accuracy: 0.80 - ETA: 1s - loss: 0.5372 - accuracy: 0.81 - ETA: 1s - loss: 0.5354 - accuracy: 0.81 - ETA: 1s - loss: 0.5319 - accuracy: 0.81 - ETA: 1s - loss: 0.5287 - accuracy: 0.81 - ETA: 1s - loss: 0.5248 - accuracy: 0.81 - ETA: 1s - loss: 0.5222 - accuracy: 0.81 - ETA: 1s - loss: 0.5196 - accuracy: 0.81 - ETA: 0s - loss: 0.5165 - accuracy: 0.81 - ETA: 0s - loss: 0.5139 - accuracy: 0.81 - ETA: 0s - loss: 0.5111 - accuracy: 0.81 - ETA: 0s - loss: 0.5086 - accuracy: 0.82 - ETA: 0s - loss: 0.5066 - accuracy: 0.82 - ETA: 0s - loss: 0.5047 - accuracy: 0.82 - ETA: 0s - loss: 0.5019 - accuracy: 0.82 - ETA: 0s - loss: 0.4996 - accuracy: 0.82 - ETA: 0s - loss: 0.4977 - accuracy: 0.82 - ETA: 0s - loss: 0.4960 - accuracy: 0.82 - ETA: 0s - loss: 0.4951 - accuracy: 0.82 - ETA: 0s - loss: 0.4939 - accuracy: 0.82 - ETA: 0s - loss: 0.4930 - accuracy: 0.82 - ETA: 0s - loss: 0.4911 - accuracy: 0.82 - ETA: 0s - loss: 0.4891 - accuracy: 0.82 - 4s 4ms/step - loss: 0.4873 - accuracy: 0.8270\n",
      "Epoch 2/5\n",
      "938/938 [==============================] - ETA: 22s - loss: 0.4513 - accuracy: 0.843 - ETA: 3s - loss: 0.3348 - accuracy: 0.882 - ETA: 3s - loss: 0.3656 - accuracy: 0.86 - ETA: 2s - loss: 0.3779 - accuracy: 0.86 - ETA: 2s - loss: 0.3857 - accuracy: 0.85 - ETA: 2s - loss: 0.3776 - accuracy: 0.86 - ETA: 2s - loss: 0.3821 - accuracy: 0.86 - ETA: 2s - loss: 0.3794 - accuracy: 0.86 - ETA: 2s - loss: 0.3783 - accuracy: 0.86 - ETA: 2s - loss: 0.3790 - accuracy: 0.86 - ETA: 2s - loss: 0.3777 - accuracy: 0.86 - ETA: 2s - loss: 0.3772 - accuracy: 0.86 - ETA: 2s - loss: 0.3756 - accuracy: 0.86 - ETA: 2s - loss: 0.3762 - accuracy: 0.86 - ETA: 2s - loss: 0.3743 - accuracy: 0.86 - ETA: 2s - loss: 0.3750 - accuracy: 0.86 - ETA: 2s - loss: 0.3737 - accuracy: 0.86 - ETA: 2s - loss: 0.3742 - accuracy: 0.86 - ETA: 2s - loss: 0.3742 - accuracy: 0.86 - ETA: 2s - loss: 0.3731 - accuracy: 0.86 - ETA: 1s - loss: 0.3740 - accuracy: 0.86 - ETA: 1s - loss: 0.3746 - accuracy: 0.86 - ETA: 1s - loss: 0.3732 - accuracy: 0.86 - ETA: 1s - loss: 0.3721 - accuracy: 0.86 - ETA: 1s - loss: 0.3716 - accuracy: 0.86 - ETA: 1s - loss: 0.3715 - accuracy: 0.86 - ETA: 1s - loss: 0.3723 - accuracy: 0.86 - ETA: 1s - loss: 0.3721 - accuracy: 0.86 - ETA: 1s - loss: 0.3720 - accuracy: 0.86 - ETA: 1s - loss: 0.3708 - accuracy: 0.86 - ETA: 1s - loss: 0.3712 - accuracy: 0.86 - ETA: 1s - loss: 0.3697 - accuracy: 0.86 - ETA: 1s - loss: 0.3690 - accuracy: 0.86 - ETA: 1s - loss: 0.3690 - accuracy: 0.86 - ETA: 1s - loss: 0.3697 - accuracy: 0.86 - ETA: 1s - loss: 0.3702 - accuracy: 0.86 - ETA: 1s - loss: 0.3689 - accuracy: 0.86 - ETA: 1s - loss: 0.3687 - accuracy: 0.86 - ETA: 1s - loss: 0.3684 - accuracy: 0.86 - ETA: 1s - loss: 0.3674 - accuracy: 0.86 - ETA: 1s - loss: 0.3663 - accuracy: 0.86 - ETA: 1s - loss: 0.3665 - accuracy: 0.86 - ETA: 1s - loss: 0.3664 - accuracy: 0.86 - ETA: 1s - loss: 0.3656 - accuracy: 0.86 - ETA: 0s - loss: 0.3651 - accuracy: 0.86 - ETA: 0s - loss: 0.3643 - accuracy: 0.86 - ETA: 0s - loss: 0.3644 - accuracy: 0.86 - ETA: 0s - loss: 0.3643 - accuracy: 0.86 - ETA: 0s - loss: 0.3643 - accuracy: 0.86 - ETA: 0s - loss: 0.3640 - accuracy: 0.86 - ETA: 0s - loss: 0.3643 - accuracy: 0.86 - ETA: 0s - loss: 0.3641 - accuracy: 0.86 - ETA: 0s - loss: 0.3634 - accuracy: 0.86 - ETA: 0s - loss: 0.3633 - accuracy: 0.86 - ETA: 0s - loss: 0.3631 - accuracy: 0.86 - ETA: 0s - loss: 0.3633 - accuracy: 0.86 - ETA: 0s - loss: 0.3630 - accuracy: 0.86 - ETA: 0s - loss: 0.3623 - accuracy: 0.86 - ETA: 0s - loss: 0.3612 - accuracy: 0.86 - ETA: 0s - loss: 0.3602 - accuracy: 0.86 - ETA: 0s - loss: 0.3600 - accuracy: 0.86 - ETA: 0s - loss: 0.3591 - accuracy: 0.86 - ETA: 0s - loss: 0.3586 - accuracy: 0.86 - ETA: 0s - loss: 0.3585 - accuracy: 0.86 - ETA: 0s - loss: 0.3593 - accuracy: 0.86 - ETA: 0s - loss: 0.3589 - accuracy: 0.86 - ETA: 0s - loss: 0.3598 - accuracy: 0.86 - ETA: 0s - loss: 0.3592 - accuracy: 0.86 - ETA: 0s - loss: 0.3589 - accuracy: 0.86 - 4s 4ms/step - loss: 0.3584 - accuracy: 0.8694\n",
      "Epoch 3/5\n"
     ]
    },
    {
     "name": "stdout",
     "output_type": "stream",
     "text": [
      "938/938 [==============================] - ETA: 36s - loss: 0.5071 - accuracy: 0.859 - ETA: 4s - loss: 0.3472 - accuracy: 0.882 - ETA: 4s - loss: 0.3624 - accuracy: 0.87 - ETA: 4s - loss: 0.3523 - accuracy: 0.87 - ETA: 5s - loss: 0.3461 - accuracy: 0.87 - ETA: 5s - loss: 0.3482 - accuracy: 0.87 - ETA: 5s - loss: 0.3485 - accuracy: 0.87 - ETA: 4s - loss: 0.3439 - accuracy: 0.87 - ETA: 4s - loss: 0.3386 - accuracy: 0.87 - ETA: 4s - loss: 0.3388 - accuracy: 0.87 - ETA: 4s - loss: 0.3397 - accuracy: 0.87 - ETA: 4s - loss: 0.3387 - accuracy: 0.87 - ETA: 4s - loss: 0.3432 - accuracy: 0.87 - ETA: 4s - loss: 0.3418 - accuracy: 0.87 - ETA: 4s - loss: 0.3439 - accuracy: 0.87 - ETA: 4s - loss: 0.3445 - accuracy: 0.87 - ETA: 4s - loss: 0.3448 - accuracy: 0.87 - ETA: 4s - loss: 0.3447 - accuracy: 0.87 - ETA: 4s - loss: 0.3471 - accuracy: 0.87 - ETA: 4s - loss: 0.3467 - accuracy: 0.87 - ETA: 4s - loss: 0.3459 - accuracy: 0.87 - ETA: 4s - loss: 0.3447 - accuracy: 0.87 - ETA: 4s - loss: 0.3434 - accuracy: 0.87 - ETA: 4s - loss: 0.3437 - accuracy: 0.87 - ETA: 4s - loss: 0.3436 - accuracy: 0.87 - ETA: 4s - loss: 0.3434 - accuracy: 0.87 - ETA: 3s - loss: 0.3445 - accuracy: 0.87 - ETA: 3s - loss: 0.3442 - accuracy: 0.87 - ETA: 3s - loss: 0.3451 - accuracy: 0.87 - ETA: 3s - loss: 0.3445 - accuracy: 0.87 - ETA: 3s - loss: 0.3431 - accuracy: 0.87 - ETA: 3s - loss: 0.3430 - accuracy: 0.87 - ETA: 3s - loss: 0.3409 - accuracy: 0.87 - ETA: 3s - loss: 0.3395 - accuracy: 0.87 - ETA: 3s - loss: 0.3389 - accuracy: 0.87 - ETA: 3s - loss: 0.3389 - accuracy: 0.87 - ETA: 3s - loss: 0.3378 - accuracy: 0.87 - ETA: 3s - loss: 0.3379 - accuracy: 0.87 - ETA: 3s - loss: 0.3376 - accuracy: 0.87 - ETA: 3s - loss: 0.3390 - accuracy: 0.87 - ETA: 3s - loss: 0.3395 - accuracy: 0.87 - ETA: 3s - loss: 0.3392 - accuracy: 0.87 - ETA: 3s - loss: 0.3388 - accuracy: 0.87 - ETA: 3s - loss: 0.3393 - accuracy: 0.87 - ETA: 3s - loss: 0.3373 - accuracy: 0.87 - ETA: 3s - loss: 0.3367 - accuracy: 0.87 - ETA: 2s - loss: 0.3359 - accuracy: 0.87 - ETA: 2s - loss: 0.3356 - accuracy: 0.87 - ETA: 2s - loss: 0.3352 - accuracy: 0.87 - ETA: 2s - loss: 0.3360 - accuracy: 0.87 - ETA: 2s - loss: 0.3355 - accuracy: 0.87 - ETA: 2s - loss: 0.3352 - accuracy: 0.87 - ETA: 2s - loss: 0.3346 - accuracy: 0.87 - ETA: 2s - loss: 0.3339 - accuracy: 0.87 - ETA: 2s - loss: 0.3337 - accuracy: 0.87 - ETA: 2s - loss: 0.3334 - accuracy: 0.87 - ETA: 2s - loss: 0.3327 - accuracy: 0.87 - ETA: 2s - loss: 0.3326 - accuracy: 0.87 - ETA: 2s - loss: 0.3335 - accuracy: 0.87 - ETA: 2s - loss: 0.3333 - accuracy: 0.87 - ETA: 2s - loss: 0.3330 - accuracy: 0.87 - ETA: 2s - loss: 0.3326 - accuracy: 0.87 - ETA: 2s - loss: 0.3322 - accuracy: 0.87 - ETA: 2s - loss: 0.3320 - accuracy: 0.87 - ETA: 2s - loss: 0.3313 - accuracy: 0.87 - ETA: 2s - loss: 0.3302 - accuracy: 0.87 - ETA: 2s - loss: 0.3305 - accuracy: 0.87 - ETA: 2s - loss: 0.3302 - accuracy: 0.87 - ETA: 2s - loss: 0.3304 - accuracy: 0.87 - ETA: 2s - loss: 0.3304 - accuracy: 0.87 - ETA: 2s - loss: 0.3304 - accuracy: 0.87 - ETA: 1s - loss: 0.3303 - accuracy: 0.87 - ETA: 1s - loss: 0.3305 - accuracy: 0.87 - ETA: 1s - loss: 0.3302 - accuracy: 0.87 - ETA: 1s - loss: 0.3299 - accuracy: 0.87 - ETA: 1s - loss: 0.3297 - accuracy: 0.87 - ETA: 1s - loss: 0.3294 - accuracy: 0.87 - ETA: 1s - loss: 0.3291 - accuracy: 0.87 - ETA: 1s - loss: 0.3289 - accuracy: 0.87 - ETA: 1s - loss: 0.3291 - accuracy: 0.87 - ETA: 1s - loss: 0.3290 - accuracy: 0.87 - ETA: 1s - loss: 0.3286 - accuracy: 0.87 - ETA: 1s - loss: 0.3288 - accuracy: 0.87 - ETA: 1s - loss: 0.3286 - accuracy: 0.87 - ETA: 1s - loss: 0.3281 - accuracy: 0.87 - ETA: 1s - loss: 0.3278 - accuracy: 0.87 - ETA: 1s - loss: 0.3275 - accuracy: 0.87 - ETA: 1s - loss: 0.3283 - accuracy: 0.87 - ETA: 1s - loss: 0.3281 - accuracy: 0.87 - ETA: 1s - loss: 0.3275 - accuracy: 0.87 - ETA: 1s - loss: 0.3270 - accuracy: 0.87 - ETA: 0s - loss: 0.3269 - accuracy: 0.87 - ETA: 0s - loss: 0.3269 - accuracy: 0.87 - ETA: 0s - loss: 0.3263 - accuracy: 0.87 - ETA: 0s - loss: 0.3264 - accuracy: 0.87 - ETA: 0s - loss: 0.3260 - accuracy: 0.87 - ETA: 0s - loss: 0.3265 - accuracy: 0.87 - ETA: 0s - loss: 0.3256 - accuracy: 0.87 - ETA: 0s - loss: 0.3256 - accuracy: 0.87 - ETA: 0s - loss: 0.3255 - accuracy: 0.87 - ETA: 0s - loss: 0.3254 - accuracy: 0.87 - ETA: 0s - loss: 0.3247 - accuracy: 0.87 - ETA: 0s - loss: 0.3243 - accuracy: 0.87 - ETA: 0s - loss: 0.3244 - accuracy: 0.88 - ETA: 0s - loss: 0.3243 - accuracy: 0.88 - ETA: 0s - loss: 0.3237 - accuracy: 0.88 - ETA: 0s - loss: 0.3235 - accuracy: 0.88 - 6s 6ms/step - loss: 0.3235 - accuracy: 0.8804\n",
      "Epoch 4/5\n",
      "938/938 [==============================] - ETA: 34s - loss: 0.2801 - accuracy: 0.921 - ETA: 3s - loss: 0.2590 - accuracy: 0.917 - ETA: 3s - loss: 0.2899 - accuracy: 0.90 - ETA: 3s - loss: 0.3014 - accuracy: 0.89 - ETA: 3s - loss: 0.3049 - accuracy: 0.88 - ETA: 4s - loss: 0.3022 - accuracy: 0.89 - ETA: 4s - loss: 0.3005 - accuracy: 0.89 - ETA: 4s - loss: 0.2983 - accuracy: 0.89 - ETA: 4s - loss: 0.3024 - accuracy: 0.89 - ETA: 4s - loss: 0.3028 - accuracy: 0.89 - ETA: 4s - loss: 0.3036 - accuracy: 0.89 - ETA: 4s - loss: 0.3020 - accuracy: 0.89 - ETA: 3s - loss: 0.2992 - accuracy: 0.89 - ETA: 3s - loss: 0.2990 - accuracy: 0.89 - ETA: 3s - loss: 0.3002 - accuracy: 0.88 - ETA: 3s - loss: 0.3027 - accuracy: 0.88 - ETA: 3s - loss: 0.3000 - accuracy: 0.88 - ETA: 3s - loss: 0.2989 - accuracy: 0.88 - ETA: 3s - loss: 0.2984 - accuracy: 0.89 - ETA: 3s - loss: 0.3006 - accuracy: 0.88 - ETA: 3s - loss: 0.3036 - accuracy: 0.88 - ETA: 3s - loss: 0.3024 - accuracy: 0.88 - ETA: 3s - loss: 0.3013 - accuracy: 0.88 - ETA: 3s - loss: 0.3016 - accuracy: 0.88 - ETA: 3s - loss: 0.3022 - accuracy: 0.88 - ETA: 3s - loss: 0.3027 - accuracy: 0.88 - ETA: 3s - loss: 0.3017 - accuracy: 0.88 - ETA: 3s - loss: 0.3018 - accuracy: 0.88 - ETA: 3s - loss: 0.3015 - accuracy: 0.88 - ETA: 3s - loss: 0.3013 - accuracy: 0.88 - ETA: 3s - loss: 0.3015 - accuracy: 0.88 - ETA: 3s - loss: 0.3021 - accuracy: 0.88 - ETA: 3s - loss: 0.3032 - accuracy: 0.88 - ETA: 3s - loss: 0.3039 - accuracy: 0.88 - ETA: 2s - loss: 0.3047 - accuracy: 0.88 - ETA: 2s - loss: 0.3024 - accuracy: 0.88 - ETA: 2s - loss: 0.3035 - accuracy: 0.88 - ETA: 2s - loss: 0.3039 - accuracy: 0.88 - ETA: 2s - loss: 0.3050 - accuracy: 0.88 - ETA: 2s - loss: 0.3054 - accuracy: 0.88 - ETA: 2s - loss: 0.3056 - accuracy: 0.88 - ETA: 2s - loss: 0.3052 - accuracy: 0.88 - ETA: 2s - loss: 0.3058 - accuracy: 0.88 - ETA: 2s - loss: 0.3059 - accuracy: 0.88 - ETA: 2s - loss: 0.3061 - accuracy: 0.88 - ETA: 2s - loss: 0.3055 - accuracy: 0.88 - ETA: 2s - loss: 0.3059 - accuracy: 0.88 - ETA: 2s - loss: 0.3054 - accuracy: 0.88 - ETA: 2s - loss: 0.3049 - accuracy: 0.88 - ETA: 2s - loss: 0.3042 - accuracy: 0.88 - ETA: 2s - loss: 0.3048 - accuracy: 0.88 - ETA: 2s - loss: 0.3053 - accuracy: 0.88 - ETA: 1s - loss: 0.3047 - accuracy: 0.88 - ETA: 1s - loss: 0.3038 - accuracy: 0.88 - ETA: 1s - loss: 0.3043 - accuracy: 0.88 - ETA: 1s - loss: 0.3043 - accuracy: 0.88 - ETA: 1s - loss: 0.3035 - accuracy: 0.88 - ETA: 1s - loss: 0.3031 - accuracy: 0.88 - ETA: 1s - loss: 0.3029 - accuracy: 0.88 - ETA: 1s - loss: 0.3029 - accuracy: 0.88 - ETA: 1s - loss: 0.3033 - accuracy: 0.88 - ETA: 1s - loss: 0.3027 - accuracy: 0.88 - ETA: 1s - loss: 0.3018 - accuracy: 0.88 - ETA: 1s - loss: 0.3013 - accuracy: 0.88 - ETA: 1s - loss: 0.3007 - accuracy: 0.88 - ETA: 0s - loss: 0.3007 - accuracy: 0.88 - ETA: 0s - loss: 0.3009 - accuracy: 0.88 - ETA: 0s - loss: 0.3019 - accuracy: 0.88 - ETA: 0s - loss: 0.3008 - accuracy: 0.88 - ETA: 0s - loss: 0.3012 - accuracy: 0.88 - ETA: 0s - loss: 0.3008 - accuracy: 0.88 - ETA: 0s - loss: 0.3011 - accuracy: 0.88 - ETA: 0s - loss: 0.3011 - accuracy: 0.88 - ETA: 0s - loss: 0.3011 - accuracy: 0.88 - ETA: 0s - loss: 0.3006 - accuracy: 0.88 - ETA: 0s - loss: 0.3000 - accuracy: 0.88 - ETA: 0s - loss: 0.2993 - accuracy: 0.88 - ETA: 0s - loss: 0.2993 - accuracy: 0.88 - ETA: 0s - loss: 0.2991 - accuracy: 0.88 - ETA: 0s - loss: 0.2994 - accuracy: 0.88 - 4s 4ms/step - loss: 0.2991 - accuracy: 0.8888\n",
      "Epoch 5/5\n"
     ]
    },
    {
     "name": "stdout",
     "output_type": "stream",
     "text": [
      "938/938 [==============================] - ETA: 31s - loss: 0.2864 - accuracy: 0.921 - ETA: 3s - loss: 0.2727 - accuracy: 0.890 - ETA: 3s - loss: 0.2762 - accuracy: 0.89 - ETA: 3s - loss: 0.2783 - accuracy: 0.89 - ETA: 2s - loss: 0.2778 - accuracy: 0.89 - ETA: 2s - loss: 0.2796 - accuracy: 0.89 - ETA: 2s - loss: 0.2761 - accuracy: 0.89 - ETA: 2s - loss: 0.2771 - accuracy: 0.89 - ETA: 2s - loss: 0.2761 - accuracy: 0.89 - ETA: 2s - loss: 0.2793 - accuracy: 0.89 - ETA: 2s - loss: 0.2825 - accuracy: 0.89 - ETA: 2s - loss: 0.2853 - accuracy: 0.89 - ETA: 2s - loss: 0.2859 - accuracy: 0.89 - ETA: 2s - loss: 0.2868 - accuracy: 0.89 - ETA: 2s - loss: 0.2850 - accuracy: 0.89 - ETA: 2s - loss: 0.2882 - accuracy: 0.89 - ETA: 2s - loss: 0.2892 - accuracy: 0.89 - ETA: 2s - loss: 0.2881 - accuracy: 0.89 - ETA: 2s - loss: 0.2896 - accuracy: 0.89 - ETA: 2s - loss: 0.2889 - accuracy: 0.89 - ETA: 2s - loss: 0.2886 - accuracy: 0.89 - ETA: 2s - loss: 0.2880 - accuracy: 0.89 - ETA: 1s - loss: 0.2897 - accuracy: 0.89 - ETA: 1s - loss: 0.2894 - accuracy: 0.89 - ETA: 1s - loss: 0.2883 - accuracy: 0.89 - ETA: 1s - loss: 0.2877 - accuracy: 0.89 - ETA: 1s - loss: 0.2878 - accuracy: 0.89 - ETA: 1s - loss: 0.2877 - accuracy: 0.89 - ETA: 1s - loss: 0.2874 - accuracy: 0.89 - ETA: 1s - loss: 0.2867 - accuracy: 0.89 - ETA: 1s - loss: 0.2868 - accuracy: 0.89 - ETA: 1s - loss: 0.2867 - accuracy: 0.89 - ETA: 1s - loss: 0.2867 - accuracy: 0.89 - ETA: 1s - loss: 0.2870 - accuracy: 0.89 - ETA: 1s - loss: 0.2868 - accuracy: 0.89 - ETA: 1s - loss: 0.2874 - accuracy: 0.89 - ETA: 1s - loss: 0.2872 - accuracy: 0.89 - ETA: 1s - loss: 0.2862 - accuracy: 0.89 - ETA: 1s - loss: 0.2861 - accuracy: 0.89 - ETA: 1s - loss: 0.2861 - accuracy: 0.89 - ETA: 1s - loss: 0.2864 - accuracy: 0.89 - ETA: 0s - loss: 0.2861 - accuracy: 0.89 - ETA: 0s - loss: 0.2856 - accuracy: 0.89 - ETA: 0s - loss: 0.2850 - accuracy: 0.89 - ETA: 0s - loss: 0.2845 - accuracy: 0.89 - ETA: 0s - loss: 0.2843 - accuracy: 0.89 - ETA: 0s - loss: 0.2843 - accuracy: 0.89 - ETA: 0s - loss: 0.2848 - accuracy: 0.89 - ETA: 0s - loss: 0.2851 - accuracy: 0.89 - ETA: 0s - loss: 0.2847 - accuracy: 0.89 - ETA: 0s - loss: 0.2854 - accuracy: 0.89 - ETA: 0s - loss: 0.2846 - accuracy: 0.89 - ETA: 0s - loss: 0.2847 - accuracy: 0.89 - ETA: 0s - loss: 0.2841 - accuracy: 0.89 - ETA: 0s - loss: 0.2839 - accuracy: 0.89 - ETA: 0s - loss: 0.2842 - accuracy: 0.89 - ETA: 0s - loss: 0.2840 - accuracy: 0.89 - ETA: 0s - loss: 0.2836 - accuracy: 0.89 - ETA: 0s - loss: 0.2828 - accuracy: 0.89 - ETA: 0s - loss: 0.2828 - accuracy: 0.89 - ETA: 0s - loss: 0.2820 - accuracy: 0.89 - 3s 3ms/step - loss: 0.2821 - accuracy: 0.8950\n"
     ]
    }
   ],
   "source": [
    "## Solution\n",
    "\n",
    "model.compile(optimizer = 'adam',\n",
    "             loss = 'sparse_categorical_crossentropy',\n",
    "             metrics = ['accuracy'])\n",
    "\n",
    "EPOCHS = 5\n",
    "history = model.fit(training_batches, epochs = EPOCHS)"
   ]
  },
  {
   "cell_type": "markdown",
   "metadata": {
    "colab_type": "text",
    "id": "REJbwplUBoRT"
   },
   "source": [
    "## Evaluate Loss and Accuracy on the Test Set\n",
    "\n",
    "Now let's see how the model performs on the test set. This time, we will use all the examples in our test set to assess the loss and accuracy of our model. Remember, the images in the test are images the model has never seen before."
   ]
  },
  {
   "cell_type": "code",
   "execution_count": 42,
   "metadata": {
    "colab": {
     "base_uri": "https://localhost:8080/",
     "height": 85
    },
    "colab_type": "code",
    "id": "q76aDGGl_xp4",
    "outputId": "d1ee69fc-874c-4985-cbd3-5bae323f64fb"
   },
   "outputs": [
    {
     "name": "stdout",
     "output_type": "stream",
     "text": [
      "157/157 [==============================] - ETA: 35s - loss: 0.1161 - accuracy: 0.984 - ETA: 0s - loss: 0.3233 - accuracy: 0.880 - ETA: 0s - loss: 0.3285 - accuracy: 0.88 - ETA: 0s - loss: 0.3304 - accuracy: 0.87 - ETA: 0s - loss: 0.3335 - accuracy: 0.87 - ETA: 0s - loss: 0.3355 - accuracy: 0.87 - ETA: 0s - loss: 0.3334 - accuracy: 0.87 - ETA: 0s - loss: 0.3365 - accuracy: 0.87 - ETA: 0s - loss: 0.3345 - accuracy: 0.87 - 1s 3ms/step - loss: 0.3410 - accuracy: 0.8753\n",
      "\n",
      "Loss on the TEST Set: 0.341\n",
      "Accuracy on the TEST Set: 87.530%\n"
     ]
    }
   ],
   "source": [
    "loss, accuracy = model.evaluate(testing_batches)\n",
    "\n",
    "print('\\nLoss on the TEST Set: {:,.3f}'.format(loss))\n",
    "print('Accuracy on the TEST Set: {:.3%}'.format(accuracy))"
   ]
  },
  {
   "cell_type": "markdown",
   "metadata": {
    "colab_type": "text",
    "id": "PnpZWDQp2Zaq"
   },
   "source": [
    "## Check Predictions"
   ]
  },
  {
   "cell_type": "code",
   "execution_count": 43,
   "metadata": {
    "colab": {
     "base_uri": "https://localhost:8080/",
     "height": 225
    },
    "colab_type": "code",
    "id": "kqUzc4pYAe7Z",
    "outputId": "faa09287-401f-478d-85c1-6eb59eb748cd"
   },
   "outputs": [
    {
     "data": {
      "image/png": "[encoded data removed]",
      "text/plain": [
       "<Figure size 432x648 with 2 Axes>"
      ]
     },
     "metadata": {
      "image/png": {
       "height": 218,
       "width": 424
      },
      "needs_background": "light"
     },
     "output_type": "display_data"
    }
   ],
   "source": [
    "for image_batch, label_batch in testing_batches.take(1):\n",
    "    ps = model.predict(image_batch)\n",
    "    first_image = image_batch.numpy().squeeze()[0]\n",
    "    first_label = label_batch.numpy()[0]\n",
    "\n",
    "fig, (ax1, ax2) = plt.subplots(figsize=(6,9), ncols=2)\n",
    "ax1.imshow(first_image, cmap = plt.cm.binary)\n",
    "ax1.axis('off')\n",
    "ax1.set_title(class_names[first_label])\n",
    "ax2.barh(np.arange(10), ps[0])\n",
    "ax2.set_aspect(0.1)\n",
    "ax2.set_yticks(np.arange(10))\n",
    "ax2.set_yticklabels(class_names, size='small');\n",
    "ax2.set_title('Class Probability')\n",
    "ax2.set_xlim(0, 1.1)\n",
    "plt.tight_layout()"
   ]
  },
  {
   "cell_type": "code",
   "execution_count": null,
   "metadata": {
    "colab": {},
    "colab_type": "code",
    "id": "gs6wGo79So1E"
   },
   "outputs": [],
   "source": []
  }
 ],
 "metadata": {
  "accelerator": "GPU",
  "colab": {
   "collapsed_sections": [],
   "name": "Part 4 - Fashion-MNIST (Solution).ipynb",
   "provenance": []
  },
  "kernelspec": {
   "display_name": "Python 3 (ipykernel)",
   "language": "python",
   "name": "python3"
  },
  "language_info": {
   "codemirror_mode": {
    "name": "ipython",
    "version": 3
   },
   "file_extension": ".py",
   "mimetype": "text/x-python",
   "name": "python",
   "nbconvert_exporter": "python",
   "pygments_lexer": "ipython3",
   "version": "3.8.11"
  }
 },
 "nbformat": 4,
 "nbformat_minor": 1
}
